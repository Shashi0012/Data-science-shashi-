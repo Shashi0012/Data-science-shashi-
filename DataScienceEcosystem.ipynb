{
 "cells": [
  {
   "cell_type": "markdown",
   "metadata": {},
   "source": [
    "<center>\n",
    "    <img src=\"https://cf-courses-data.s3.us.cloud-object-storage.appdomain.cloud/IBMDeveloperSkillsNetwork-DS0105EN-SkillsNetwork/labs/Module2/images/SN_web_lightmode.png\" width=\"300\" alt=\"cognitiveclass.ai logo\">\n",
    "</center>\n"
   ]
  },
  {
   "cell_type": "markdown",
   "metadata": {},
   "source": [
    "#### Add your code below following the instructions given in the course\n"
   ]
  },
  {
   "cell_type": "markdown",
   "metadata": {},
   "source": [
    "# Data science tools and ecosystem"
   ]
  },
  {
   "cell_type": "markdown",
   "metadata": {},
   "source": [
    "** In this notebook, Data Science Tools and Ecosystem are summarized.**"
   ]
  },
  {
   "cell_type": "markdown",
   "metadata": {},
   "source": [
    "## Objectives:\n",
    "    \n",
    "   (-) Basic foundation of data science is coverd and tools that are used for data insight.\n",
    "   \n",
    "   (-) most popular langauges used for data science python,r,sql etc.\n",
    "   \n",
    "   (-)some most used tools for data science includes github,jupiter notebook, apache spark , ibm db.\n",
    "   \n",
    "   (-)To give over review how data science impact business decision and prediction of climate in other field.\n",
    "    "
   ]
  },
  {
   "cell_type": "markdown",
   "metadata": {},
   "source": [
    "### some of the popular languages that data scientists use are :\n",
    "1)python\n",
    "\n",
    "2)R\n",
    "\n",
    "3)SQL\n",
    "\n",
    "4)julia\n",
    "\n",
    "5)java"
   ]
  },
  {
   "cell_type": "markdown",
   "metadata": {},
   "source": [
    "## Some of the commonly used libraries used by data scientists includes:\n",
    "1)numpy\n",
    "\n",
    "2)pandas\n",
    "\n",
    "3)matplotlib\n",
    "\n",
    "4)seaborn\n",
    "\n"
   ]
  },
  {
   "cell_type": "markdown",
   "metadata": {},
   "source": [
    "|Data Science Tools|\n",
    "| :- |\n",
    "|jupyter notebook |\n",
    "|Google collab |\n",
    "|apache spark |\n",
    "|power Bi |\n",
    "|scikit learn |\n",
    "|tensot flow|"
   ]
  },
  {
   "cell_type": "markdown",
   "metadata": {},
   "source": [
    "<h3>Below are a few examples of evaluating arithmetic expressions in Python.\n",
    "    \n",
    "|SYMBOL|EXPRESSION|DESCRIBTION|  \n",
    "| :-| :-| :-|  \n",
    "|+  | a + b|Addition\t\n",
    "|-\t|a - b|Subtraction\n",
    "|*\t|a * b|\tMultiplication\n",
    "|/\t|a / b|\tDivision\t\n",
    "|%  | a % b|Modulo\t\n",
    "|// | a// b|Floor Division\t \n",
    "|** | a**b|\tExponentiation\t"
   ]
  },
  {
   "cell_type": "markdown",
   "metadata": {},
   "source": [
    "### Simple aithmatice expression to multiply and add integers \n"
   ]
  },
  {
   "cell_type": "code",
   "execution_count": 1,
   "metadata": {
    "scrolled": true
   },
   "outputs": [
    {
     "data": {
      "text/plain": [
       "29"
      ]
     },
     "execution_count": 1,
     "metadata": {},
     "output_type": "execute_result"
    }
   ],
   "source": [
    "(4*5)+9"
   ]
  },
  {
   "cell_type": "markdown",
   "metadata": {},
   "source": [
    "### Here is the output of airthmatice operation is 29"
   ]
  },
  {
   "cell_type": "code",
   "execution_count": 5,
   "metadata": {
    "scrolled": true
   },
   "outputs": [
    {
     "data": {
      "text/plain": [
       "6.666666666666667"
      ]
     },
     "execution_count": 5,
     "metadata": {},
     "output_type": "execute_result"
    }
   ],
   "source": [
    "### Converting minutes to hours by dividing by 60\n",
    "400/60"
   ]
  },
  {
   "cell_type": "markdown",
   "metadata": {},
   "source": [
    "result of converting minutes into hour is 6.66 hours "
   ]
  },
  {
   "cell_type": "markdown",
   "metadata": {},
   "source": [
    "<H2>Author\n",
    "    \n",
    "    shashidhar a"
   ]
  },
  {
   "cell_type": "code",
   "execution_count": null,
   "metadata": {},
   "outputs": [],
   "source": []
  }
 ],
 "metadata": {
  "kernelspec": {
   "display_name": "Python 3 (ipykernel)",
   "language": "python",
   "name": "python3"
  },
  "language_info": {
   "codemirror_mode": {
    "name": "ipython",
    "version": 3
   },
   "file_extension": ".py",
   "mimetype": "text/x-python",
   "name": "python",
   "nbconvert_exporter": "python",
   "pygments_lexer": "ipython3",
   "version": "3.10.9"
  }
 },
 "nbformat": 4,
 "nbformat_minor": 4
}
